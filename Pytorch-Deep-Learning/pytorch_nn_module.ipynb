{
  "nbformat": 4,
  "nbformat_minor": 0,
  "metadata": {
    "colab": {
      "provenance": []
    },
    "kernelspec": {
      "name": "python3",
      "display_name": "Python 3"
    },
    "language_info": {
      "name": "python"
    }
  },
  "cells": [
    {
      "cell_type": "code",
      "source": [
        "import torch\n",
        "import torch.nn as nn\n",
        "\n",
        "class NeuralNetwork(nn.Module):\n",
        "\n",
        "    def __init__(self, input_size, hidden_size):\n",
        "        super().__init__()\n",
        "\n",
        "        self.network = nn.Sequential(\n",
        "            nn.Linear(input_size, hidden_size),\n",
        "            nn.ReLU(),\n",
        "            nn.Linear(hidden_size, hidden_size),\n",
        "            nn.ReLU(),\n",
        "            nn.Linear(hidden_size, 1),\n",
        "            nn.Sigmoid()\n",
        "        )\n",
        "\n",
        "    def forward(self, x):\n",
        "        out = self.network(x)\n",
        "        return out\n",
        "\n",
        ""
      ],
      "metadata": {
        "id": "7AbUHThPxpIc"
      },
      "execution_count": 34,
      "outputs": []
    },
    {
      "cell_type": "code",
      "source": [
        "model = NeuralNetwork(5,10)"
      ],
      "metadata": {
        "id": "ZsMbOWu71dQd"
      },
      "execution_count": 35,
      "outputs": []
    },
    {
      "cell_type": "code",
      "source": [
        "features = torch.rand(100,5)"
      ],
      "metadata": {
        "id": "kMb7Nfjz1ker"
      },
      "execution_count": 36,
      "outputs": []
    },
    {
      "cell_type": "code",
      "source": [
        "y_target = torch.randint(size=(100,1),high=2,low=0)"
      ],
      "metadata": {
        "id": "LiHpKxbL1xAt"
      },
      "execution_count": 46,
      "outputs": []
    },
    {
      "cell_type": "code",
      "source": [
        "y_target"
      ],
      "metadata": {
        "id": "ZFo3ev0E10Ep",
        "outputId": "10178b74-944e-46bc-b4df-775c42f6921c",
        "colab": {
          "base_uri": "https://localhost:8080/"
        }
      },
      "execution_count": 38,
      "outputs": [
        {
          "output_type": "execute_result",
          "data": {
            "text/plain": [
              "tensor([1, 0, 0, 0, 0, 1, 0, 0, 1, 1, 1, 0, 0, 0, 0, 1, 1, 1, 1, 1, 0, 1, 0, 0,\n",
              "        0, 0, 1, 1, 0, 0, 1, 0, 1, 1, 1, 1, 0, 1, 1, 0, 0, 1, 1, 1, 1, 0, 1, 0,\n",
              "        1, 1, 0, 1, 1, 1, 1, 1, 1, 0, 0, 0, 0, 0, 1, 0, 1, 0, 0, 1, 0, 1, 0, 0,\n",
              "        0, 0, 1, 1, 1, 1, 0, 0, 0, 0, 0, 1, 0, 1, 1, 1, 0, 0, 1, 0, 1, 0, 0, 0,\n",
              "        0, 0, 0, 1])"
            ]
          },
          "metadata": {},
          "execution_count": 38
        }
      ]
    },
    {
      "cell_type": "code",
      "source": [
        "y_target.shape"
      ],
      "metadata": {
        "id": "pxDCgGzJ19TY",
        "outputId": "7bd18a16-6518-47a0-8e12-71b78634a4c9",
        "colab": {
          "base_uri": "https://localhost:8080/"
        }
      },
      "execution_count": 47,
      "outputs": [
        {
          "output_type": "execute_result",
          "data": {
            "text/plain": [
              "torch.Size([100, 1])"
            ]
          },
          "metadata": {},
          "execution_count": 47
        }
      ]
    },
    {
      "cell_type": "code",
      "source": [
        "# model(features)"
      ],
      "metadata": {
        "id": "vTFO_28h4UR9"
      },
      "execution_count": 41,
      "outputs": []
    },
    {
      "cell_type": "code",
      "source": [
        "model.parameters()"
      ],
      "metadata": {
        "id": "4Yb3vVVY2-x7",
        "outputId": "42bced3c-8185-4e17-f2b0-648f16d44606",
        "colab": {
          "base_uri": "https://localhost:8080/"
        }
      },
      "execution_count": 42,
      "outputs": [
        {
          "output_type": "execute_result",
          "data": {
            "text/plain": [
              "<generator object Module.parameters at 0x7a5af64d7bc0>"
            ]
          },
          "metadata": {},
          "execution_count": 42
        }
      ]
    },
    {
      "cell_type": "code",
      "source": [
        "import torch.optim as optim\n",
        "\n",
        "optimizer = optim.SGD(model.parameters(), lr=0.01)"
      ],
      "metadata": {
        "id": "TlchejPM2rLO"
      },
      "execution_count": 43,
      "outputs": []
    },
    {
      "cell_type": "code",
      "source": [
        "criterion = nn.BCELoss()"
      ],
      "metadata": {
        "id": "yUTJ3u-224gN"
      },
      "execution_count": 44,
      "outputs": []
    },
    {
      "cell_type": "code",
      "source": [
        "for epoch in range(1,101):\n",
        "  y_pred = model(features)\n",
        "  loss = criterion(y_pred, y_target.float())\n",
        "  optimizer.zero_grad()\n",
        "  loss.backward()\n",
        "  optimizer.step()\n",
        "  if epoch % 10 == 0:\n",
        "    print(f\"Epoch: {epoch} Loss: {loss}\")"
      ],
      "metadata": {
        "id": "pNNIlhG24kVK",
        "outputId": "bdfb4c6c-83dc-4b95-8923-f3c7f2d02565",
        "colab": {
          "base_uri": "https://localhost:8080/"
        }
      },
      "execution_count": 48,
      "outputs": [
        {
          "output_type": "stream",
          "name": "stdout",
          "text": [
            "Epoch: 10 Loss: 0.7010066509246826\n",
            "Epoch: 20 Loss: 0.7000144720077515\n",
            "Epoch: 30 Loss: 0.6991055011749268\n",
            "Epoch: 40 Loss: 0.6982721090316772\n",
            "Epoch: 50 Loss: 0.6975051760673523\n",
            "Epoch: 60 Loss: 0.6968008279800415\n",
            "Epoch: 70 Loss: 0.6961519122123718\n",
            "Epoch: 80 Loss: 0.6955538988113403\n",
            "Epoch: 90 Loss: 0.6950023174285889\n",
            "Epoch: 100 Loss: 0.6944931745529175\n"
          ]
        }
      ]
    },
    {
      "cell_type": "code",
      "source": [
        "from torchinfo import summary\n",
        "\n",
        "summary(model, input_size=(100, 5))"
      ],
      "metadata": {
        "id": "r8exyHhR5CPO",
        "outputId": "3a34209e-fb4d-49df-9ed8-b5450a6e50c6",
        "colab": {
          "base_uri": "https://localhost:8080/"
        }
      },
      "execution_count": 53,
      "outputs": [
        {
          "output_type": "execute_result",
          "data": {
            "text/plain": [
              "==========================================================================================\n",
              "Layer (type:depth-idx)                   Output Shape              Param #\n",
              "==========================================================================================\n",
              "NeuralNetwork                            [100, 1]                  --\n",
              "├─Sequential: 1-1                        [100, 1]                  --\n",
              "│    └─Linear: 2-1                       [100, 10]                 60\n",
              "│    └─ReLU: 2-2                         [100, 10]                 --\n",
              "│    └─Linear: 2-3                       [100, 10]                 110\n",
              "│    └─ReLU: 2-4                         [100, 10]                 --\n",
              "│    └─Linear: 2-5                       [100, 1]                  11\n",
              "│    └─Sigmoid: 2-6                      [100, 1]                  --\n",
              "==========================================================================================\n",
              "Total params: 181\n",
              "Trainable params: 181\n",
              "Non-trainable params: 0\n",
              "Total mult-adds (Units.MEGABYTES): 0.02\n",
              "==========================================================================================\n",
              "Input size (MB): 0.00\n",
              "Forward/backward pass size (MB): 0.02\n",
              "Params size (MB): 0.00\n",
              "Estimated Total Size (MB): 0.02\n",
              "=========================================================================================="
            ]
          },
          "metadata": {},
          "execution_count": 53
        }
      ]
    },
    {
      "cell_type": "code",
      "source": [],
      "metadata": {
        "id": "YLeiDZhG5TLc"
      },
      "execution_count": null,
      "outputs": []
    }
  ]
}